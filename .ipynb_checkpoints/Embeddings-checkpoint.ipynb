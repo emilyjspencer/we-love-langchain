{
 "cells": [
  {
   "cell_type": "code",
   "execution_count": 9,
   "id": "3ccddb2a",
   "metadata": {},
   "outputs": [
    {
     "data": {
      "text/plain": [
       "True"
      ]
     },
     "execution_count": 9,
     "metadata": {},
     "output_type": "execute_result"
    }
   ],
   "source": [
    "# loading the API keys in environment variables\n",
    "import os\n",
    "from dotenv import load_dotenv, find_dotenv\n",
    "load_dotenv(find_dotenv(), override=True)"
   ]
  },
  {
   "cell_type": "code",
   "execution_count": 14,
   "id": "9a6f3dbe",
   "metadata": {},
   "outputs": [],
   "source": [
    "from langchain.text_splitter import RecursiveCharacterTextSplitter\n",
    "\n",
    "with open('actresses.txt') as f:\n",
    "    actresses = f.read()\n",
    "\n",
    "\n",
    "text_splitter = RecursiveCharacterTextSplitter(\n",
    "    chunk_size=100,\n",
    "    chunk_overlap=20,\n",
    "    length_function=len\n",
    ")"
   ]
  },
  {
   "cell_type": "code",
   "execution_count": 18,
   "id": "dd6fde0b",
   "metadata": {},
   "outputs": [
    {
     "name": "stdout",
     "output_type": "stream",
     "text": [
      "page_content='generation, Streep has mesmerized audiences with her unparalleled talent and versatility for over'\n",
      "to fully embody characters, coupled with her dedication to her craft, has made her a beacon of\n",
      "This file is made up of  51 chunks\n"
     ]
    }
   ],
   "source": [
    "chunks = text_splitter.create_documents([actresses])\n",
    "print(chunks[2])\n",
    "print(chunks[12].page_content)\n",
    "print(f'This file is made up of  {len(chunks)} chunks')"
   ]
  },
  {
   "cell_type": "code",
   "execution_count": null,
   "id": "de04b82f",
   "metadata": {},
   "outputs": [],
   "source": [
    "def calculate_cost(text):\n",
    "    import tiktoken\n",
    "    enc = tiktoken.encoding_for_model('text-embedding-ada-002')\n",
    "    total_tokens = sum([len(enc.encode(page.page_content)) for page in texts])\n",
    "    print(f'Total Tokens: {total_tokens}')\n",
    "    print(f'Embedding Cost in GBP: {total_tokens / 1000 * 0.0004:.6f}')\n",
    "    \n",
    "calculate_cost(chunks)"
   ]
  }
 ],
 "metadata": {
  "kernelspec": {
   "display_name": "Python 3 (ipykernel)",
   "language": "python",
   "name": "python3"
  },
  "language_info": {
   "codemirror_mode": {
    "name": "ipython",
    "version": 3
   },
   "file_extension": ".py",
   "mimetype": "text/x-python",
   "name": "python",
   "nbconvert_exporter": "python",
   "pygments_lexer": "ipython3",
   "version": "3.11.5"
  }
 },
 "nbformat": 4,
 "nbformat_minor": 5
}
